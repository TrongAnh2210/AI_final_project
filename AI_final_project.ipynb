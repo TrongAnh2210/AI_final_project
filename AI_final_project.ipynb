{
  "cells": [
    {
      "cell_type": "markdown",
      "metadata": {
        "id": "view-in-github",
        "colab_type": "text"
      },
      "source": [
        "<a href=\"https://colab.research.google.com/github/TrongAnh2210/AI_final_project/blob/main/AI_final_project.ipynb\" target=\"_parent\"><img src=\"https://colab.research.google.com/assets/colab-badge.svg\" alt=\"Open In Colab\"/></a>"
      ]
    },
    {
      "cell_type": "code",
      "execution_count": null,
      "metadata": {
        "id": "bvuvOFUOSsdJ"
      },
      "outputs": [],
      "source": [
        "from os import listdir\n",
        "from numpy import asarray, save\n",
        "from keras.utils import load_img\n",
        "from keras.utils import img_to_array\n",
        "import numpy as np\n",
        "from skimage.transform import resize"
      ]
    },
    {
      "cell_type": "code",
      "execution_count": null,
      "metadata": {
        "colab": {
          "base_uri": "https://localhost:8080/"
        },
        "id": "Yc12xL8mTJcc",
        "outputId": "defdbd70-621e-4017-fd11-f7776a46d126"
      },
      "outputs": [
        {
          "name": "stdout",
          "output_type": "stream",
          "text": [
            "Drive already mounted at /content/drive; to attempt to forcibly remount, call drive.mount(\"/content/drive\", force_remount=True).\n"
          ]
        }
      ],
      "source": [
        "from google.colab import drive\n",
        "drive.mount('/content/drive')"
      ]
    },
    {
      "cell_type": "code",
      "execution_count": null,
      "metadata": {
        "colab": {
          "base_uri": "https://localhost:8080/"
        },
        "id": "z5F3uQopVG1C",
        "outputId": "9b82063e-8bcb-491a-b7cb-414243d49990"
      },
      "outputs": [
        {
          "output_type": "stream",
          "name": "stdout",
          "text": [
            "(35746, 28, 28, 1) (35746,)\n"
          ]
        }
      ],
      "source": [
        "from os import listdir\n",
        "from numpy import asarray\n",
        "\n",
        "folder = '/content/drive/MyDrive/Hand_writting/'\n",
        "photos, labels = list(), list()\n",
        "for file in listdir(folder):\n",
        "  if file.startswith('N0'):  #Chữ số\n",
        "    output= 0.0\n",
        "  if file.startswith('N1'):\n",
        "    output= 1.0\n",
        "  if file.startswith('N2'):\n",
        "    output= 2.0\n",
        "  if file.startswith('N3'):\n",
        "    output= 3.0\n",
        "  if file.startswith('N4'):\n",
        "    output= 4.0\n",
        "  if file.startswith('N5'):\n",
        "    output= 5.0\n",
        "  if file.startswith('N6'):\n",
        "    output= 6.0\n",
        "  if file.startswith('N7'):\n",
        "    output= 7.0\n",
        "  if file.startswith('N8'):\n",
        "    output= 8.0\n",
        "  if file.startswith('N9'):\n",
        "    output= 9.0\n",
        "  if file.startswith('A'):\n",
        "    output= 10.0\n",
        "  if file.startswith('B'):\n",
        "    output= 11.0\n",
        "  if file.startswith('C'):\n",
        "    output= 12.0\n",
        "  if file.startswith('D'):\n",
        "    output= 13.0\n",
        "  if file.startswith('E'):\n",
        "    output= 14.0\n",
        "  if file.startswith('F'):\n",
        "    output= 15.0\n",
        "  if file.startswith('G'):\n",
        "    output= 16.0\n",
        "  if file.startswith('H'):\n",
        "    output= 17.0\n",
        "  if file.startswith('I'):\n",
        "    output= 18.0\n",
        "  if file.startswith('J'):\n",
        "    output= 19.0\n",
        "  if file.startswith('K'):\n",
        "    output= 20.0\n",
        "  if file.startswith('L'):\n",
        "    output= 21.0\n",
        "  if file.startswith('M'):\n",
        "    output= 22.0\n",
        "  if file.startswith('NN'):\n",
        "    output= 23.0\n",
        "  if file.startswith('O'):\n",
        "    output= 24.0\n",
        "  if file.startswith('P'):\n",
        "    output= 25.0\n",
        "  if file.startswith('Q'):\n",
        "    output= 26.0\n",
        "  if file.startswith('R'):\n",
        "    output= 27.0\n",
        "  if file.startswith('S'):\n",
        "    output= 28.0\n",
        "  if file.startswith('T'):\n",
        "    output= 29.0\n",
        "  if file.startswith('U'):\n",
        "    output= 30.0\n",
        "  if file.startswith('V'):\n",
        "    output= 31.0\n",
        "  if file.startswith('W'):\n",
        "    output= 32.0\n",
        "  if file.startswith('X'):\n",
        "    output= 33.0\n",
        "  if file.startswith('Y'):\n",
        "    output= 34.0\n",
        "  if file.startswith('Z'):\n",
        "    output= 35.0\n",
        "  photo = load_img(folder + file, target_size=(28,28))\n",
        "  photo = img_to_array(photo)\n",
        "  photo = resize(photo, (28, 28, 1))\n",
        "  photos.append(photo)\n",
        "  labels.append(output)\n",
        "\n",
        "photos = asarray(photos)\n",
        "labels = asarray(labels)\n",
        "print(photos.shape, labels.shape)\n",
        "save('/content/drive/MyDrive/Hand_writting_data/Handwritting_photos.npy', photos)\n",
        "save('/content/drive/MyDrive/Hand_writting_data/Handwritting_labels.npy', labels)"
      ]
    },
    {
      "cell_type": "code",
      "execution_count": 1,
      "metadata": {
        "id": "VVyPzRjNzV54"
      },
      "outputs": [],
      "source": [
        "\n",
        "import numpy as np\n",
        "\n",
        "# Load images and labels\n",
        "from keras.utils import to_categorical #one hot encoding\n",
        "photos = np.load('/content/drive/MyDrive/Hand_writting_data/Handwritting_photos.npy')\n",
        "labels = np.load('/content/drive/MyDrive/Hand_writting_data/Handwritting_labels.npy')\n",
        "# Preprocess data\n",
        "photos = photos.astype('float32') / 255.0\n",
        "labels = to_categorical(labels)\n",
        "\n",
        "# Chia ra thành 2 phần để test và train\n",
        "\n",
        "test_x, test_y = photos[:150], labels[:150]\n",
        "train_x, train_y = photos[150:], labels[150:]"
      ]
    },
    {
      "cell_type": "code",
      "execution_count": 2,
      "metadata": {
        "colab": {
          "base_uri": "https://localhost:8080/"
        },
        "id": "asHzjizOzfKA",
        "outputId": "8d462ec7-a1f2-47d2-cee2-2b1fd524d820"
      },
      "outputs": [
        {
          "output_type": "stream",
          "name": "stdout",
          "text": [
            "Model: \"sequential\"\n",
            "_________________________________________________________________\n",
            " Layer (type)                Output Shape              Param #   \n",
            "=================================================================\n",
            " conv2d (Conv2D)             (None, 28, 28, 32)        832       \n",
            "                                                                 \n",
            " max_pooling2d (MaxPooling2D  (None, 14, 14, 32)       0         \n",
            " )                                                               \n",
            "                                                                 \n",
            " conv2d_1 (Conv2D)           (None, 14, 14, 48)        38448     \n",
            "                                                                 \n",
            " max_pooling2d_1 (MaxPooling  (None, 7, 7, 48)         0         \n",
            " 2D)                                                             \n",
            "                                                                 \n",
            " flatten (Flatten)           (None, 2352)              0         \n",
            "                                                                 \n",
            " dense (Dense)               (None, 256)               602368    \n",
            "                                                                 \n",
            " dense_1 (Dense)             (None, 84)                21588     \n",
            "                                                                 \n",
            " dense_2 (Dense)             (None, 37)                3145      \n",
            "                                                                 \n",
            "=================================================================\n",
            "Total params: 666,381\n",
            "Trainable params: 666,381\n",
            "Non-trainable params: 0\n",
            "_________________________________________________________________\n"
          ]
        }
      ],
      "source": [
        "#Build model\n",
        "from keras.models import Sequential, Model\n",
        "from keras.layers import Dense, Dropout, Flatten, Conv2D, MaxPooling2D, Normalization\n",
        "from keras.layers import ReLU\n",
        "from keras.optimizers import Adam\n",
        "from keras.optimizers import RMSprop\n",
        "from keras import layers\n",
        "from keras.utils import np_utils\n",
        "classes = 37\n",
        "W = 28\n",
        "H = 28\n",
        "# Define model\n",
        "model = Sequential()\n",
        "\n",
        "model.add(layers.Conv2D(filters=32, kernel_size=(5,5), padding='same', activation='relu', input_shape=(W, H, 1)))\n",
        "model.add(layers.MaxPool2D(strides=2))\n",
        "model.add(layers.Conv2D(filters=48, kernel_size=(5,5), padding='same', activation='relu'))\n",
        "model.add(layers.MaxPool2D(strides=2))\n",
        "model.add(layers.Flatten())\n",
        "model.add(layers.Dense(256, activation='relu'))\n",
        "model.add(layers.Dense(84, activation='relu'))\n",
        "model.add(layers.Dense(classes, activation='softmax'))\n",
        "\n",
        "model.summary()"
      ]
    },
    {
      "cell_type": "code",
      "execution_count": null,
      "metadata": {
        "colab": {
          "background_save": true
        },
        "id": "kOa-SD0w0a6T"
      },
      "outputs": [],
      "source": []
    },
    {
      "cell_type": "code",
      "execution_count": null,
      "metadata": {
        "colab": {
          "base_uri": "https://localhost:8080/"
        },
        "id": "WTtzhT_5z6aV",
        "outputId": "3aed0a8d-62ef-42b5-a7ec-8b09bce16afa"
      },
      "outputs": [
        {
          "output_type": "stream",
          "name": "stdout",
          "text": [
            "Epoch 1/10\n",
            "279/279 [==============================] - 17s 53ms/step - loss: 0.5096 - accuracy: 0.8367 - val_loss: 0.8483 - val_accuracy: 0.7800\n",
            "Epoch 2/10\n",
            "279/279 [==============================] - 13s 48ms/step - loss: 0.5132 - accuracy: 0.8353 - val_loss: 0.8940 - val_accuracy: 0.7667\n",
            "Epoch 3/10\n",
            "279/279 [==============================] - 13s 47ms/step - loss: 0.5125 - accuracy: 0.8349 - val_loss: 0.9140 - val_accuracy: 0.8000\n",
            "Epoch 4/10\n",
            "279/279 [==============================] - 13s 46ms/step - loss: 0.5132 - accuracy: 0.8343 - val_loss: 0.8349 - val_accuracy: 0.7867\n",
            "Epoch 5/10\n",
            "279/279 [==============================] - 13s 46ms/step - loss: 0.5024 - accuracy: 0.8385 - val_loss: 0.9707 - val_accuracy: 0.7600\n",
            "Epoch 6/10\n",
            "279/279 [==============================] - 13s 47ms/step - loss: 0.5042 - accuracy: 0.8349 - val_loss: 0.9312 - val_accuracy: 0.7800\n",
            "Epoch 7/10\n",
            "279/279 [==============================] - 13s 47ms/step - loss: 0.5171 - accuracy: 0.8337 - val_loss: 0.6685 - val_accuracy: 0.8000\n",
            "Epoch 8/10\n",
            "279/279 [==============================] - 13s 47ms/step - loss: 0.5103 - accuracy: 0.8358 - val_loss: 0.8195 - val_accuracy: 0.8000\n",
            "Epoch 9/10\n",
            "279/279 [==============================] - 13s 47ms/step - loss: 0.5070 - accuracy: 0.8383 - val_loss: 0.8887 - val_accuracy: 0.7600\n",
            "Epoch 10/10\n",
            "279/279 [==============================] - 13s 45ms/step - loss: 0.5024 - accuracy: 0.8377 - val_loss: 0.8881 - val_accuracy: 0.8067\n",
            "5/5 [==============================] - 0s 5ms/step - loss: 0.8881 - accuracy: 0.8067\n",
            "Test accuracy: 0.8066666722297668\n"
          ]
        }
      ],
      "source": [
        "#Biên dịch chương trình\n",
        "from keras.backend import categorical_crossentropy\n",
        "from keras import optimizers\n",
        "from keras.preprocessing.image import ImageDataGenerator\n",
        "\n",
        "# Compile model\n",
        "model.compile(optimizer='adam', loss='categorical_crossentropy', metrics=['accuracy'])\n",
        "\n",
        "# Augment data with ImageDataGenerator\n",
        "datagen = ImageDataGenerator(rotation_range=20, width_shift_range=0.2, height_shift_range=0.2, shear_range=0.2, zoom_range=0.2, horizontal_flip=True)\n",
        "datagen.fit(train_x)\n",
        "\n",
        "# Train model\n",
        "history = model.fit(datagen.flow(train_x, train_y, batch_size=128), epochs=10, validation_data=(test_x, test_y))\n",
        "\n",
        "# Evaluate model\n",
        "test_loss, test_acc = model.evaluate(test_x, test_y)\n",
        "print('Test accuracy:', test_acc)"
      ]
    },
    {
      "cell_type": "code",
      "execution_count": null,
      "metadata": {
        "id": "Tb1FMBDGCRSe",
        "colab": {
          "base_uri": "https://localhost:8080/",
          "height": 507
        },
        "outputId": "4b78f190-6a41-4203-950b-22cf519cbbad"
      },
      "outputs": [
        {
          "output_type": "stream",
          "name": "stdout",
          "text": [
            "Test loss: 0.888131320476532\n",
            "Test accunacy 0.8066666722297668\n"
          ]
        },
        {
          "output_type": "execute_result",
          "data": {
            "text/plain": [
              "Text(0.5, 1.0, 'Training & Testing Accuracy')"
            ]
          },
          "metadata": {},
          "execution_count": 28
        },
        {
          "output_type": "display_data",
          "data": {
            "text/plain": [
              "<Figure size 640x480 with 1 Axes>"
            ],
            "image/png": "[encoded data removed]"
          },
          "metadata": {}
        }
      ],
      "source": [
        "import matplotlib.pyplot as plt\n",
        "eval = model.evaluate(test_x, test_y, verbose=0)\n",
        "print('Test loss:', eval[0])\n",
        "print('Test accunacy', eval[1])\n",
        "accuracy = history.history['accuracy']\n",
        "loss = history.history['loss']\n",
        "epochs = range(len(accuracy))\n",
        "plt.plot(epochs, accuracy,'bo', label = 'Traning Accuracy')\n",
        "plt.plot(epochs, loss, 'b', label= 'Test Accuracy')\n",
        "plt.title('Training & Testing Accuracy')"
      ]
    },
    {
      "cell_type": "code",
      "execution_count": null,
      "metadata": {
        "id": "09sCxvWUCUIg"
      },
      "outputs": [],
      "source": [
        "model.save('/content/drive/MyDrive/Hand_writting_data/Hand_writting.h5')"
      ]
    },
    {
      "cell_type": "code",
      "execution_count": null,
      "metadata": {
        "id": "7iSklMauEg7w",
        "colab": {
          "base_uri": "https://localhost:8080/",
          "height": 1000
        },
        "outputId": "8278d764-226d-4b42-97db-a2a291a542ac"
      },
      "outputs": [
        {
          "output_type": "stream",
          "name": "stdout",
          "text": [
            "1/1 [==============================] - 0s 21ms/step\n",
            "D\n"
          ]
        },
        {
          "output_type": "display_data",
          "data": {
            "text/plain": [
              "<Figure size 640x480 with 1 Axes>"
            ],
            "image/png": "[encoded data removed]"
          },
          "metadata": {}
        },
        {
          "output_type": "stream",
          "name": "stdout",
          "text": [
            "1/1 [==============================] - 0s 21ms/step\n",
            "A\n"
          ]
        },
        {
          "output_type": "display_data",
          "data": {
            "text/plain": [
              "<Figure size 640x480 with 1 Axes>"
            ],
            "image/png": "[encoded data removed]"
          },
          "metadata": {}
        },
        {
          "output_type": "stream",
          "name": "stdout",
          "text": [
            "1/1 [==============================] - 0s 22ms/step\n",
            "H\n"
          ]
        },
        {
          "output_type": "display_data",
          "data": {
            "text/plain": [
              "<Figure size 640x480 with 1 Axes>"
            ],
            "image/png": "[encoded data removed]"
          },
          "metadata": {}
        },
        {
          "output_type": "stream",
          "name": "stdout",
          "text": [
            "1/1 [==============================] - 0s 18ms/step\n",
            "K\n"
          ]
        },
        {
          "output_type": "display_data",
          "data": {
            "text/plain": [
              "<Figure size 640x480 with 1 Axes>"
            ],
            "image/png": "[encoded data removed]"
          },
          "metadata": {}
        }
      ],
      "source": [
        "\n",
        "#Testing\n",
        "from os import listdir\n",
        "from keras.utils import load_img\n",
        "from keras.utils.image_utils import img_to_array\n",
        "import matplotlib.pyplot as plt\n",
        "from skimage.transform import resize\n",
        "import numpy as np\n",
        "folder = '/content/drive/MyDrive/Hand_writting_test'\n",
        "for file in listdir(folder):\n",
        "  photo = load_img(folder + '/' +  file)\n",
        "  plt.imshow(photo)\n",
        "  photo = load_img(folder + '/' +  file, target_size = (28, 28))\n",
        "  photo=img_to_array(photo)\n",
        "  photo = resize(photo, (28, 28, 1))\n",
        "  photo=photo.astype('float32')\n",
        "  photo=photo/255\n",
        "  photo=np.expand_dims(photo,axis=0)\n",
        "  result=(model.predict(photo).argmax())\n",
        "  class_name=['0','1','2','3','4','5','6','7','8','9','A','B','C','D','E','F','G','H','I','J','K','L','M','N','O','P','Q','R','S','T','U','V','W','X','Y','Z']\n",
        "  print(class_name[result])\n",
        "  plt.show()"
      ]
    }
  ],
  "metadata": {
    "accelerator": "GPU",
    "colab": {
      "provenance": [],
      "mount_file_id": "1vob9WQOAaHLkm2AxW4JlLoeRMOITAE69",
      "authorship_tag": "ABX9TyMxRnbY9ZdaOqJUHf/fS19M",
      "include_colab_link": true
    },
    "gpuClass": "standard",
    "kernelspec": {
      "display_name": "Python 3",
      "name": "python3"
    },
    "language_info": {
      "name": "python"
    }
  },
  "nbformat": 4,
  "nbformat_minor": 0
}